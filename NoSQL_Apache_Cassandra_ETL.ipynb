{
 "cells": [
  {
   "cell_type": "markdown",
   "metadata": {
    "editable": true
   },
   "source": [
    "# Part I. ETL Pipeline for Pre-Processing the Files"
   ]
  },
  {
   "cell_type": "markdown",
   "metadata": {
    "editable": true
   },
   "source": [
    "## PLEASE RUN THE FOLLOWING CODE FOR PRE-PROCESSING THE FILES"
   ]
  },
  {
   "cell_type": "markdown",
   "metadata": {
    "editable": true
   },
   "source": [
    "#### Import Python packages "
   ]
  },
  {
   "cell_type": "code",
   "execution_count": 1,
   "metadata": {
    "editable": true
   },
   "outputs": [],
   "source": [
    "# Import Python packages \n",
    "import pandas as pd\n",
    "import cassandra\n",
    "import re\n",
    "import os\n",
    "import glob\n",
    "import numpy as np\n",
    "import json\n",
    "import csv"
   ]
  },
  {
   "cell_type": "markdown",
   "metadata": {
    "editable": true
   },
   "source": [
    "#### Creating list of filepaths to process original event csv data files"
   ]
  },
  {
   "cell_type": "code",
   "execution_count": 2,
   "metadata": {
    "editable": true
   },
   "outputs": [
    {
     "name": "stdout",
     "output_type": "stream",
     "text": [
      "/home/workspace\n"
     ]
    }
   ],
   "source": [
    "# checking your current working directory\n",
    "print(os.getcwd())\n",
    "\n",
    "# Get your current folder and subfolder event data\n",
    "filepath = os.getcwd() + '/event_data'\n",
    "\n",
    "# Create a for loop to create a list of files and collect each filepath\n",
    "for root, dirs, files in os.walk(filepath):\n",
    "    \n",
    "    # join the file path and roots with the subdirectories using glob\n",
    "    file_path_list = glob.glob(os.path.join(root,'*'))\n",
    "    #print(file_path_list)"
   ]
  },
  {
   "cell_type": "markdown",
   "metadata": {
    "editable": true
   },
   "source": [
    "#### Processing the files to create the data file csv that will be used for Apache Casssandra tables"
   ]
  },
  {
   "cell_type": "code",
   "execution_count": 3,
   "metadata": {
    "editable": true
   },
   "outputs": [],
   "source": [
    "# initiating an empty list of rows that will be generated from each file\n",
    "full_data_rows_list = [] \n",
    "    \n",
    "# for every filepath in the file path list \n",
    "for f in file_path_list:\n",
    "\n",
    "    # reading csv file \n",
    "    with open(f, 'r', encoding = 'utf8', newline='') as csvfile: \n",
    "        # creating a csv reader object \n",
    "        csvreader = csv.reader(csvfile) \n",
    "        next(csvreader)\n",
    "        \n",
    "        # extracting each data row one by one and append it        \n",
    "        for line in csvreader:\n",
    "            #print(line)\n",
    "            full_data_rows_list.append(line) \n",
    "            \n",
    "# uncomment the code below if you would like to get total number of rows \n",
    "# print(len(full_data_rows_list))\n",
    "# uncomment the code below if you would like to check to see what the list of event data rows will look like\n",
    "# print(full_data_rows_list)\n",
    "\n",
    "# creating a smaller event data csv file called event_datafile_full csv that will be used to insert data into the \\\n",
    "# Apache Cassandra tables\n",
    "csv.register_dialect('myDialect', quoting=csv.QUOTE_ALL, skipinitialspace=True)\n",
    "\n",
    "# write into csv file event_datafile_new\n",
    "with open('event_datafile_new.csv', 'w', encoding = 'utf8', newline='') as f:\n",
    "    writer = csv.writer(f, dialect='myDialect')\n",
    "    \n",
    "    # create column headers\n",
    "    writer.writerow(['artist','firstName','gender','itemInSession','lastName','length',\\\n",
    "                'level','location','sessionId','song','userId'])\n",
    "    \n",
    "    # for every row in combined data set\n",
    "    for row in full_data_rows_list:\n",
    "        \n",
    "        # skip over rows where the first field, artist, is blank \n",
    "        if (row[0] == ''):\n",
    "            continue\n",
    "            \n",
    "        # write data into new csv file using their index\n",
    "        writer.writerow((row[0], row[2], row[3], row[4], row[5], row[6], row[7], row[8], row[12], row[13], row[16]))"
   ]
  },
  {
   "cell_type": "code",
   "execution_count": 4,
   "metadata": {
    "editable": true
   },
   "outputs": [
    {
     "name": "stdout",
     "output_type": "stream",
     "text": [
      "6821\n"
     ]
    }
   ],
   "source": [
    "# check the number of rows in your csv file\n",
    "with open('event_datafile_new.csv', 'r', encoding = 'utf8') as f:\n",
    "    print(sum(1 for line in f))"
   ]
  },
  {
   "cell_type": "markdown",
   "metadata": {
    "editable": true
   },
   "source": [
    "# Part II. Create a NoSQL keyspace to answer the following three requests:\n",
    "#### 1. Give me the artist, song title and song's length in the music app history that was heard during  sessionId = 338, and itemInSession  = 4\n",
    "\n",
    "\n",
    "#### 2. Give me only the following: name of artist, song (sorted by itemInSession) and user (first and last name) for userid = 10, sessionid = 182\n",
    "    \n",
    "\n",
    "#### 3. Give me every user name (first and last) in my music app history who listened to the song 'All Hands Against His Own'\n",
    "\n",
    "#### For context, the newly created <font color=red>**event_datafile_new.csv**</font> contains the following columns: \n",
    "- artist \n",
    "- firstName of user\n",
    "- gender of user\n",
    "- item number in session\n",
    "- last name of user\n",
    "- length of the song\n",
    "- level (paid or free song)\n",
    "- location of the user\n",
    "- sessionId\n",
    "- song title\n",
    "- userId\n",
    "\n",
    "The image below is a screenshot of what the denormalized data should appear like in the <font color=red>**event_datafile_new.csv**</font> after the code above is run:<br>\n",
    "\n",
    "<img src=\"images/image_event_datafile_new.jpg\">"
   ]
  },
  {
   "cell_type": "markdown",
   "metadata": {
    "editable": true
   },
   "source": [
    "#### Creating a Cluster"
   ]
  },
  {
   "cell_type": "code",
   "execution_count": 5,
   "metadata": {
    "editable": true
   },
   "outputs": [],
   "source": [
    "# This should make a connection to a Cassandra instance your local machine \n",
    "# (127.0.0.1)\n",
    "\n",
    "from cassandra.cluster import Cluster\n",
    "cluster = Cluster()\n",
    "\n",
    "# To establish connection and begin executing queries, need a session\n",
    "session = cluster.connect()"
   ]
  },
  {
   "cell_type": "markdown",
   "metadata": {
    "editable": true
   },
   "source": [
    "#### Create Keyspace"
   ]
  },
  {
   "cell_type": "code",
   "execution_count": 6,
   "metadata": {
    "editable": true
   },
   "outputs": [
    {
     "data": {
      "text/plain": [
       "<cassandra.cluster.ResultSet at 0x7f69c9c00518>"
      ]
     },
     "execution_count": 6,
     "metadata": {},
     "output_type": "execute_result"
    }
   ],
   "source": [
    "# Create a Keyspace \n",
    "session.execute(\"\"\"CREATE KEYSPACE IF NOT EXISTS sparktify\n",
    "                   WITH REPLICATION = \n",
    "                   {'class' : 'SimpleStrategy', 'replication_factor' : 1}\"\"\")"
   ]
  },
  {
   "cell_type": "markdown",
   "metadata": {
    "editable": true
   },
   "source": [
    "#### Set Keyspace"
   ]
  },
  {
   "cell_type": "code",
   "execution_count": 7,
   "metadata": {
    "editable": true
   },
   "outputs": [],
   "source": [
    "# Set KEYSPACE to the keyspace specified above\n",
    "session.set_keyspace('sparktify')"
   ]
  },
  {
   "cell_type": "markdown",
   "metadata": {
    "editable": true
   },
   "source": [
    "### Create tables and queries to align with each requst stated above. Remember, with Apache Cassandra you model the database tables on the queries you want to run."
   ]
  },
  {
   "cell_type": "markdown",
   "metadata": {
    "editable": true
   },
   "source": [
    "#### Request 1: Give me the artist, song title and song's length in the music app history that was heard during  sessionId = 338, and itemInSession  = 4"
   ]
  },
  {
   "cell_type": "code",
   "execution_count": 8,
   "metadata": {
    "editable": true
   },
   "outputs": [
    {
     "data": {
      "text/plain": [
       "<cassandra.cluster.ResultSet at 0x7f69a4fabc18>"
      ]
     },
     "execution_count": 8,
     "metadata": {},
     "output_type": "execute_result"
    }
   ],
   "source": [
    "# Query description: Pull song details heard for session ID 338 and item in session 4\n",
    "# Query design: select artist, song, length from song_heard_during_session where \\ \n",
    "# sessionId = 338 and itemInSession = 4\n",
    "\n",
    "# Drop table placeholder\n",
    "# session.execute(\"DROP TABLE IF EXISTS song_heard_during_item_in_session\")\n",
    "\n",
    "# Create table\n",
    "create_table1 = \"CREATE TABLE IF NOT EXISTS song_heard_during_item_in_session\"\n",
    "\n",
    "# Define columns to include and partition columns\n",
    "# Partition columns: sessionid and iteminsession; Reasoning: both fields used in where clause and make the record unique\n",
    "create_table1 += \"\"\"(sessionId int,\n",
    "                    itemInSession int,\n",
    "                    artist varchar,\n",
    "                    song varchar,\n",
    "                    length decimal,\n",
    "                    PRIMARY KEY (sessionId, itemInSession))\"\"\"\n",
    "\n",
    "# Execute create table statement\n",
    "session.execute(create_table1)"
   ]
  },
  {
   "cell_type": "markdown",
   "metadata": {
    "editable": true
   },
   "source": [
    "#### Read in <font color=red>**event_datafile_new.csv**</font>"
   ]
  },
  {
   "cell_type": "code",
   "execution_count": 9,
   "metadata": {
    "editable": true
   },
   "outputs": [],
   "source": [
    "# Set file variable to event_datafile_new.csv\n",
    "file = 'event_datafile_new.csv'\n",
    "\n",
    "# Read in file\n",
    "with open(file, encoding = 'utf8') as f:\n",
    "    csvreader = csv.reader(f)\n",
    "    next(csvreader) # skip header\n",
    "    \n",
    "    # For each row in csv file\n",
    "    for line in csvreader:\n",
    "        \n",
    "        # Assign the INSERT statements into the `query` variable\n",
    "        query = \"INSERT INTO song_heard_during_item_in_session \"\n",
    "        query += \"(sessionId, itemInSession, artist, song, length) \"\n",
    "        query += \"VALUES(%s,%s,%s,%s,%s)\"\n",
    "        \n",
    "        # Assign which column element should be assigned for each column in the INSERT statement.\n",
    "        session.execute(query, (int(line[8]), int(line[3]), line[0], line[9], float(line[5])))"
   ]
  },
  {
   "cell_type": "markdown",
   "metadata": {
    "editable": true
   },
   "source": [
    "#### Do a SELECT to verify that the data have been inserted into each table"
   ]
  },
  {
   "cell_type": "code",
   "execution_count": 10,
   "metadata": {
    "editable": true,
    "scrolled": true
   },
   "outputs": [
    {
     "name": "stdout",
     "output_type": "stream",
     "text": [
      "      artist                             song    length\n",
      "0  Faithless  Music Matters (Mark Knight Dub)  495.3073\n"
     ]
    }
   ],
   "source": [
    "# Test query design to verify the data was entered into the table \\\n",
    "# and set object to variable data1\n",
    "data1 = session.execute(\"\"\"select \n",
    "                               artist, \n",
    "                               song, \n",
    "                               length \n",
    "                           from song_heard_during_item_in_session \n",
    "                           where sessionId = 338 \n",
    "                               and itemInSession = 4\"\"\")\n",
    "    \n",
    "# initialize empty list under output variable\n",
    "output = []\n",
    "\n",
    "# For every row in data1\n",
    "for row in data1:\n",
    "    \n",
    "    # Place row of data into list under the variable row_list\n",
    "    row_list = [row.artist, row.song, row.length]\n",
    "    \n",
    "    # Append row list to output\n",
    "    output.append(row_list)\n",
    "\n",
    "# Define column labels\n",
    "column_labels = (['artist', 'song', 'length'])\n",
    "\n",
    "# Create dataframe utilizing output and column labels\n",
    "df1 = pd.DataFrame(output, columns = column_labels)\n",
    "\n",
    "# Print dataframe\n",
    "print(df1)"
   ]
  },
  {
   "cell_type": "markdown",
   "metadata": {
    "editable": true
   },
   "source": [
    "#### Request 2: Give me only the following: name of artist, song (sorted by itemInSession) and user (first and last name) for userid = 10, sessionid = 182"
   ]
  },
  {
   "cell_type": "code",
   "execution_count": 11,
   "metadata": {
    "editable": true
   },
   "outputs": [
    {
     "data": {
      "text/plain": [
       "<cassandra.cluster.ResultSet at 0x7f69a1542470>"
      ]
     },
     "execution_count": 11,
     "metadata": {},
     "output_type": "execute_result"
    }
   ],
   "source": [
    "# Query description: Pull user name and song details heard for user ID 10 and session id 182 \\\n",
    "# in the order the songs were played\n",
    "# Query design: select artist, song, firstname, lastname from song_heard_during_user_session \\\n",
    "# where userid = 10 and sessionid = 182\n",
    "\n",
    "# Drop table placeholder\n",
    "# session.execute(\"DROP TABLE IF EXISTS song_heard_during_user_session\")\n",
    "\n",
    "# Create table\n",
    "create_table2 = \"CREATE TABLE IF NOT EXISTS song_heard_during_user_session\"\n",
    "\n",
    "# Partition columns: userid and sessionid; Reasoning: fields used in where clause\n",
    "# Cluster column: iteminsession; Reasoning: to sort on iteminsession and it makes the record unique\n",
    "create_table2 += \"\"\"(userid int,\n",
    "                    sessionid int,\n",
    "                    iteminsession int,\n",
    "                    artist varchar,\n",
    "                    song varchar,\n",
    "                    firstname varchar,\n",
    "                    lastname varchar,\n",
    "                    PRIMARY KEY ((userid, sessionid), iteminsession))\"\"\"\n",
    "\n",
    "# Execute create table statement\n",
    "session.execute(create_table2)         "
   ]
  },
  {
   "cell_type": "markdown",
   "metadata": {
    "editable": true
   },
   "source": [
    "#### Read in <font color=red>**event_datafile_new.csv**</font>"
   ]
  },
  {
   "cell_type": "code",
   "execution_count": 12,
   "metadata": {
    "editable": true
   },
   "outputs": [],
   "source": [
    "# Read in csv\n",
    "with open(file, encoding = 'utf8') as f:\n",
    "    csvreader = csv.reader(f)\n",
    "    next(csvreader) # skip header\n",
    "    \n",
    "    # For each row in csv file\n",
    "    for line in csvreader:\n",
    "        \n",
    "        # Assign the INSERT statements into the `query` variable\n",
    "        query = \"INSERT INTO song_heard_during_user_session \"\n",
    "        query += \"(userid, sessionId, iteminsession, artist, song, firstname, lastname) \"\n",
    "        query += \"VALUES(%s,%s,%s,%s,%s,%s,%s)\"\n",
    "        \n",
    "        # Assign which column element should be assigned for each column in the INSERT statement.\n",
    "        session.execute(query, (int(line[10]), int(line[8]), int(line[3]), line[0], line[9], line[1], line[4]))"
   ]
  },
  {
   "cell_type": "markdown",
   "metadata": {
    "editable": true
   },
   "source": [
    "#### Do a SELECT to verify that the data have been inserted into each table"
   ]
  },
  {
   "cell_type": "code",
   "execution_count": 13,
   "metadata": {
    "editable": true
   },
   "outputs": [
    {
     "name": "stdout",
     "output_type": "stream",
     "text": [
      "              artist                                               song  \\\n",
      "0   Down To The Bone                                 Keep On Keepin' On   \n",
      "1       Three Drives                                        Greece 2000   \n",
      "2  Sebastien Tellier                                          Kilometer   \n",
      "3      Lonnie Gordon  Catch You Baby (Steve Pitron & Max Sanna Radio...   \n",
      "\n",
      "  firstname lastname  \n",
      "0    Sylvie     Cruz  \n",
      "1    Sylvie     Cruz  \n",
      "2    Sylvie     Cruz  \n",
      "3    Sylvie     Cruz  \n"
     ]
    }
   ],
   "source": [
    "# Test query design to verify the data was entered into the table \\\n",
    "# and set object to variable data2\n",
    "data2 = session.execute(\"\"\"select\n",
    "                               artist, \n",
    "                               song, \n",
    "                               firstname, \n",
    "                               lastname \n",
    "                            from song_heard_during_user_session \n",
    "                            where userid = 10 \n",
    "                                and sessionid = 182\"\"\")\n",
    "\n",
    "# initialize empty list under output variable\n",
    "output = []\n",
    "\n",
    "# For every row in data2\n",
    "for row in data2:\n",
    "    \n",
    "    # Place row of data into list under the variable row_list\n",
    "    row_list = [row.artist, row.song, row.firstname, row.lastname]\n",
    "    \n",
    "    # Append row list to output\n",
    "    output.append(row_list)\n",
    "\n",
    "# Define column labels\n",
    "column_labels = (['artist', 'song', 'firstname', 'lastname'])\n",
    "\n",
    "# Create dataframe utilizing output and column labels\n",
    "df2 = pd.DataFrame(output, columns = column_labels)\n",
    "\n",
    "# Print dataframe\n",
    "print(df2)"
   ]
  },
  {
   "cell_type": "markdown",
   "metadata": {
    "editable": true
   },
   "source": [
    "### Request 3. Give me every user name (first and last) in my music app history who listened to the song 'All Hands Against His Own'"
   ]
  },
  {
   "cell_type": "code",
   "execution_count": 14,
   "metadata": {
    "editable": true
   },
   "outputs": [
    {
     "data": {
      "text/plain": [
       "<cassandra.cluster.ResultSet at 0x7f69c9ae75f8>"
      ]
     },
     "execution_count": 14,
     "metadata": {},
     "output_type": "execute_result"
    }
   ],
   "source": [
    "# Query description: Pull user name(s) for anyone who listen to the song 'All Hands Against His Own'\n",
    "# Query design: select firstname, lastname from user_who_heard_song where song = 'All Hands Against His Own'\n",
    "\n",
    "# Drop table placeholder\n",
    "# session.execute(\"DROP TABLE IF EXISTS user_who_heard_song\")\n",
    "\n",
    "# Create table\n",
    "create_table3 = \"CREATE TABLE IF NOT EXISTS user_who_heard_song\"\n",
    "\n",
    "# Partition column: song; Reasoning: fields used in where clause\n",
    "# Cluster column: userid; Reasoning: to make the record unique\n",
    "create_table3 += \"\"\"(song varchar,\n",
    "                     userid int,\n",
    "                     firstname varchar,\n",
    "                     lastname varchar,\n",
    "                     PRIMARY KEY (song, userid))\"\"\"\n",
    "\n",
    "# Execute create table statement\n",
    "session.execute(create_table3)           "
   ]
  },
  {
   "cell_type": "markdown",
   "metadata": {
    "editable": true
   },
   "source": [
    "#### Read in <font color=red>**event_datafile_new.csv**</font>"
   ]
  },
  {
   "cell_type": "code",
   "execution_count": 15,
   "metadata": {
    "editable": true
   },
   "outputs": [],
   "source": [
    "# Read in csv\n",
    "with open(file, encoding = 'utf8') as f:\n",
    "    csvreader = csv.reader(f)\n",
    "    next(csvreader) # skip header\n",
    "    \n",
    "    # For each row in csv file\n",
    "    for line in csvreader:\n",
    "        \n",
    "        # Assign the INSERT statements into the `query` variable\n",
    "        query = \"INSERT INTO user_who_heard_song \"\n",
    "        query += \"(song, userid, firstname, lastname) \"\n",
    "        query += \"VALUES(%s,%s,%s,%s)\"\n",
    "        \n",
    "        # Assign which column element should be assigned for each column in the INSERT statement.\n",
    "        session.execute(query, (line[9], int(line[10]), line[1], line[4]))"
   ]
  },
  {
   "cell_type": "markdown",
   "metadata": {
    "editable": true
   },
   "source": [
    "#### Do a SELECT to verify that the data have been inserted into each table"
   ]
  },
  {
   "cell_type": "code",
   "execution_count": 16,
   "metadata": {
    "editable": true
   },
   "outputs": [
    {
     "name": "stdout",
     "output_type": "stream",
     "text": [
      "    firstname lastname\n",
      "0  Jacqueline    Lynch\n",
      "1       Tegan   Levine\n",
      "2        Sara  Johnson\n"
     ]
    }
   ],
   "source": [
    "# Test query design to verify the data was entered into the table \\\n",
    "# and set object to variable data3\n",
    "data3 = session.execute(\"\"\"select \n",
    "                               firstname, \n",
    "                               lastname \n",
    "                            from user_who_heard_song\n",
    "                            where song = 'All Hands Against His Own'\"\"\")\n",
    "\n",
    "# initialize empty list under output variable\n",
    "output = []\n",
    "\n",
    "# For every row in data3\n",
    "for row in data3:\n",
    "    \n",
    "    # Place row of data into list under the variable row_list\n",
    "    row_list = [row.firstname, row.lastname]\n",
    "    \n",
    "    # Append row list to output\n",
    "    output.append(row_list)\n",
    "\n",
    "# Define column labels\n",
    "column_labels = (['firstname', 'lastname'])\n",
    "\n",
    "# Create dataframe utilizing output and column labels\n",
    "df3 = pd.DataFrame(output, columns = column_labels)\n",
    "\n",
    "# Print dataframe\n",
    "print(df3)"
   ]
  },
  {
   "cell_type": "markdown",
   "metadata": {
    "editable": true
   },
   "source": [
    "### Drop the tables before closing out the sessions"
   ]
  },
  {
   "cell_type": "code",
   "execution_count": 17,
   "metadata": {
    "editable": true
   },
   "outputs": [
    {
     "data": {
      "text/plain": [
       "<cassandra.cluster.ResultSet at 0x7f69c9adabe0>"
      ]
     },
     "execution_count": 17,
     "metadata": {},
     "output_type": "execute_result"
    }
   ],
   "source": [
    "# Drop the table before closing out the sessions\n",
    "session.execute(\"DROP TABLE IF EXISTS song_heard_during_item_in_session\")\n",
    "session.execute(\"DROP TABLE IF EXISTS song_heard_during_user_session\")\n",
    "session.execute(\"DROP TABLE IF EXISTS user_who_heard_song\")"
   ]
  },
  {
   "cell_type": "markdown",
   "metadata": {
    "editable": true
   },
   "source": [
    "### Close the session and cluster connection¶"
   ]
  },
  {
   "cell_type": "code",
   "execution_count": 18,
   "metadata": {
    "editable": true
   },
   "outputs": [],
   "source": [
    "session.shutdown()\n",
    "cluster.shutdown()"
   ]
  },
  {
   "cell_type": "code",
   "execution_count": null,
   "metadata": {
    "editable": true
   },
   "outputs": [],
   "source": []
  },
  {
   "cell_type": "code",
   "execution_count": null,
   "metadata": {
    "editable": true
   },
   "outputs": [],
   "source": []
  }
 ],
 "metadata": {
  "kernelspec": {
   "display_name": "Python 3",
   "language": "python",
   "name": "python3"
  },
  "language_info": {
   "codemirror_mode": {
    "name": "ipython",
    "version": 3
   },
   "file_extension": ".py",
   "mimetype": "text/x-python",
   "name": "python",
   "nbconvert_exporter": "python",
   "pygments_lexer": "ipython3",
   "version": "3.6.3"
  }
 },
 "nbformat": 4,
 "nbformat_minor": 4
}
